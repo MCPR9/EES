{
 "cells": [
  {
   "cell_type": "markdown",
   "metadata": {},
   "source": [
    "# Assignment-1"
   ]
  },
  {
   "cell_type": "markdown",
   "metadata": {},
   "source": [
    "### Name: Anushk Naval  \n",
    "### Roll:18046"
   ]
  },
  {
   "cell_type": "markdown",
   "metadata": {},
   "source": [
    "**Write a code (either in Python or MATLAB) to create a checkerboard (or chessboard). Also, introduce the line drop error vertically and diagonally in two separate images at a constant interval of 15 columns.**"
   ]
  },
  {
   "cell_type": "code",
   "execution_count": 1,
   "metadata": {},
   "outputs": [],
   "source": [
    "import numpy as np\n",
    "import matplotlib.pyplot as plt\n",
    "import cv2"
   ]
  },
  {
   "cell_type": "markdown",
   "metadata": {},
   "source": [
    "## Initialization:"
   ]
  },
  {
   "cell_type": "code",
   "execution_count": 2,
   "metadata": {},
   "outputs": [
    {
     "name": "stdout",
     "output_type": "stream",
     "text": [
      "Enter the size of checkers board:40\n",
      "\n",
      "Enter banding gap:15\n"
     ]
    }
   ],
   "source": [
    "img_size = int(input('Enter the size of checkers board:'))\n",
    "gap = int(input('\\nEnter banding gap:'))\n",
    "Img_array = np.zeros((img_size,img_size))"
   ]
  },
  {
   "cell_type": "code",
   "execution_count": 3,
   "metadata": {},
   "outputs": [
    {
     "data": {
      "text/plain": [
       "True"
      ]
     },
     "execution_count": 3,
     "metadata": {},
     "output_type": "execute_result"
    }
   ],
   "source": [
    "img = Img_array.copy()\n",
    "for i in range(img_size):\n",
    "    for j in range(img_size):\n",
    "        if (i+j)%2 != 0:\n",
    "            img[i][j] = 255\n",
    "img_o = img.reshape((img_size,img_size)).astype('uint8')\n",
    "cv2.imwrite('Checker_board.jpg',img_o)"
   ]
  },
  {
   "cell_type": "markdown",
   "metadata": {},
   "source": [
    "## Introducing banding in image:"
   ]
  },
  {
   "cell_type": "code",
   "execution_count": 4,
   "metadata": {},
   "outputs": [
    {
     "data": {
      "text/plain": [
       "True"
      ]
     },
     "execution_count": 4,
     "metadata": {},
     "output_type": "execute_result"
    }
   ],
   "source": [
    "img_v = img.copy()\n",
    "c = 0\n",
    "for i in range(img_size):\n",
    "    for j in range(img_size):\n",
    "        if c == 0:\n",
    "            img_v[i][j]=255\n",
    "            c = gap\n",
    "        else: \n",
    "            c -= 1\n",
    "    c = 0\n",
    "        \n",
    "img_vb = img_v.reshape((img_size,img_size)).astype('uint8')\n",
    "cv2.imwrite('Verticle_linedrop_error.jpg',img_vb)"
   ]
  },
  {
   "cell_type": "code",
   "execution_count": 5,
   "metadata": {},
   "outputs": [
    {
     "data": {
      "text/plain": [
       "True"
      ]
     },
     "execution_count": 5,
     "metadata": {},
     "output_type": "execute_result"
    }
   ],
   "source": [
    "img_d = img.copy()\n",
    "c = gap\n",
    "a = 1\n",
    "for i in range(img_size):\n",
    "    for j in range(img_size):\n",
    "        if c == gap:\n",
    "            img_d[i][j]=255\n",
    "            c = 0\n",
    "        else: \n",
    "            c += 1\n",
    "    c = gap - a\n",
    "    if(a == gap):\n",
    "        a = 0\n",
    "    else:\n",
    "        a += 1\n",
    "        \n",
    "img_db = img_d.reshape((img_size,img_size)).astype('uint8')\n",
    "cv2.imwrite('Daigonal_linedrop_error.jpg',img_db)"
   ]
  },
  {
   "cell_type": "markdown",
   "metadata": {},
   "source": [
    "##  Visualizing:"
   ]
  },
  {
   "cell_type": "code",
   "execution_count": 6,
   "metadata": {},
   "outputs": [
    {
     "data": {
      "image/png": "[encoded data removed]",
      "text/plain": [
       "<Figure size 1080x1080 with 3 Axes>"
      ]
     },
     "metadata": {},
     "output_type": "display_data"
    }
   ],
   "source": [
    "plt.figure(figsize=(15, 15))\n",
    "\n",
    "plt.subplot(131)\n",
    "plt.title('Checker board image')\n",
    "plt.imshow(img_o, cmap='gray')\n",
    "plt.xticks([])\n",
    "plt.yticks([])\n",
    "\n",
    "plt.subplot(132)\n",
    "plt.title('Vertical line drop error image')\n",
    "plt.imshow(img_vb, cmap='gray')\n",
    "plt.xticks([])\n",
    "plt.yticks([])\n",
    "\n",
    "plt.subplot(133)\n",
    "plt.title('Diagonal line drop error image')\n",
    "plt.imshow(img_db, cmap='gray')\n",
    "plt.xticks([])\n",
    "plt.yticks([])\n",
    "\n",
    "plt.savefig('Grid.png')\n",
    "plt.show()"
   ]
  }
 ],
 "metadata": {
  "kernelspec": {
   "display_name": "Python 3",
   "language": "python",
   "name": "python3"
  },
  "language_info": {
   "codemirror_mode": {
    "name": "ipython",
    "version": 3
   },
   "file_extension": ".py",
   "mimetype": "text/x-python",
   "name": "python",
   "nbconvert_exporter": "python",
   "pygments_lexer": "ipython3",
   "version": "3.7.3"
  }
 },
 "nbformat": 4,
 "nbformat_minor": 2
}
